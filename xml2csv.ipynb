{
 "cells": [
  {
   "cell_type": "code",
   "execution_count": 34,
   "metadata": {},
   "outputs": [],
   "source": [
    "import os\n",
    "import csv\n",
    "import xml.etree.ElementTree as ET"
   ]
  },
  {
   "cell_type": "code",
   "execution_count": 35,
   "metadata": {},
   "outputs": [
    {
     "name": "stdout",
     "output_type": "stream",
     "text": [
      "已將 dy_Report_2015.xml 轉換為 C:\\Users\\e4408\\work_space\\data_science_final_project\\rain-amount-daily-csv\\dy_Report_2015.csv\n",
      "已將 dy_Report_2016.xml 轉換為 C:\\Users\\e4408\\work_space\\data_science_final_project\\rain-amount-daily-csv\\dy_Report_2016.csv\n",
      "已將 dy_Report_2017.xml 轉換為 C:\\Users\\e4408\\work_space\\data_science_final_project\\rain-amount-daily-csv\\dy_Report_2017.csv\n",
      "已將 dy_Report_2018.xml 轉換為 C:\\Users\\e4408\\work_space\\data_science_final_project\\rain-amount-daily-csv\\dy_Report_2018.csv\n",
      "已將 dy_Report_2019.xml 轉換為 C:\\Users\\e4408\\work_space\\data_science_final_project\\rain-amount-daily-csv\\dy_Report_2019.csv\n",
      "已將 dy_Report_2020.xml 轉換為 C:\\Users\\e4408\\work_space\\data_science_final_project\\rain-amount-daily-csv\\dy_Report_2020.csv\n",
      "已將 dy_Report_2021.xml 轉換為 C:\\Users\\e4408\\work_space\\data_science_final_project\\rain-amount-daily-csv\\dy_Report_2021.csv\n",
      "已將 dy_Report_2022.xml 轉換為 C:\\Users\\e4408\\work_space\\data_science_final_project\\rain-amount-daily-csv\\dy_Report_2022.csv\n",
      "已將 dy_Report_2023.xml 轉換為 C:\\Users\\e4408\\work_space\\data_science_final_project\\rain-amount-daily-csv\\dy_Report_2023.csv\n",
      "所有 XML 檔案已成功轉換為 CSV，儲存於資料夾 'C:\\Users\\e4408\\work_space\\data_science_final_project\\rain-amount-daily-csv' 中。\n"
     ]
    }
   ],
   "source": [
    "folder_path = r\"C:\\Users\\e4408\\work_space\\data_science_final_project\\rain-amout-daily-xml\"\n",
    "output_folder = r\"C:\\Users\\e4408\\work_space\\data_science_final_project\\rain-amount-daily-csv\"  \n",
    "\n",
    "os.makedirs(output_folder, exist_ok=True)\n",
    "\n",
    "# 定義命名空間\n",
    "namespace = {'ns': 'urn:cwa:gov:tw:cwacommon:0.1'}\n",
    "\n",
    "for file_name in os.listdir(folder_path):\n",
    "    if file_name.endswith(\".xml\"):\n",
    "        xml_file = os.path.join(folder_path, file_name)\n",
    "        csv_file = os.path.join(output_folder, f\"{os.path.splitext(file_name)[0]}.csv\")\n",
    "        \n",
    "        tree = ET.parse(xml_file)\n",
    "        root = tree.getroot()\n",
    "        \n",
    "        with open(csv_file, mode='w', newline='', encoding='utf-8') as file:\n",
    "            writer = csv.writer(file)\n",
    "            \n",
    "            # writer.writerow([\"station_id\", \"station_name\", \"date\", \"rain_amount(mm)\"])\n",
    "            \n",
    "            \n",
    "            for location in root.findall(\".//ns:location\", namespace):\n",
    "                for station in location.findall(\"ns:station\", namespace):\n",
    "                    station_id = station.find(\"ns:StationID\", namespace).text\n",
    "                    station_name = station.find(\"ns:StationName\", namespace).text\n",
    "                    \n",
    "                    for obst in location.findall(\"ns:stationObsTimes/ns:stationObsTime\", namespace):\n",
    "                        date = obst.find(\"ns:Date\", namespace).text\n",
    "                        precipitation = obst.find(\".//ns:weatherElements/ns:Precipitation\", namespace).text\n",
    "                        \n",
    "                        writer.writerow([station_id, station_name, date, precipitation])\n",
    "\n",
    "        \n",
    "        print(f\"已將 {file_name} 轉換為 {csv_file}\")\n",
    "\n",
    "print(f\"所有 XML 檔案已成功轉換為 CSV，儲存於資料夾 '{output_folder}' 中。\")"
   ]
  }
 ],
 "metadata": {
  "kernelspec": {
   "display_name": "Python 3",
   "language": "python",
   "name": "python3"
  },
  "language_info": {
   "codemirror_mode": {
    "name": "ipython",
    "version": 3
   },
   "file_extension": ".py",
   "mimetype": "text/x-python",
   "name": "python",
   "nbconvert_exporter": "python",
   "pygments_lexer": "ipython3",
   "version": "3.12.6"
  }
 },
 "nbformat": 4,
 "nbformat_minor": 2
}
